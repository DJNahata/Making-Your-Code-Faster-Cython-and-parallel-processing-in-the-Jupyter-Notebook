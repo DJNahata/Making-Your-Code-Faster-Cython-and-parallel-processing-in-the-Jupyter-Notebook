{
 "cells": [
  {
   "cell_type": "markdown",
   "metadata": {},
   "source": [
    "# Making Your Code Faster: Cython and parallel processing in the Jupyter Notebook  \n",
    "  \n",
    "### PyData DC 2016  \n",
    "  \n",
    "*Gustavo A. Patino*  \n",
    "*Department of Biomedical Sciences*  \n",
    "*Department of Neurology*  \n",
    "*Oakland University William Beaumont School of Medicine*  \n",
    "*Rochester, MI*  \n",
    "  \n",
    "patino@oakland.edu  \n",
    "https://https://github.com/gapatino/Making-Your-Code-Faster-Cython-and-parallel-processing-in-the-Jupyter-Notebook  "
   ]
  },
  {
   "cell_type": "markdown",
   "metadata": {},
   "source": [
    "**Problem:**  \n",
    "The y=x^2 function can be approximated using its derivative y'=2x through the Euler method:  \n",
    "y(n+1) = y(n) + (step \\* y')  \n",
    "The precision of the approximation depends on the step being very small\n",
    "We want to find the step size that gives a difference < 1e-5 when comparing the values obtained  \n",
    "using the y=x^2 formula and the Euler method after evaluating a million points  \n",
    "*Note how a step size of 1 means we will evaluate values of x between 0 and 1000000, while a step size*  \n",
    "*of 0.001 means that x ranges from 0 to 1000*"
   ]
  },
  {
   "cell_type": "code",
   "execution_count": 17,
   "metadata": {
    "collapsed": true
   },
   "outputs": [],
   "source": [
    "# Define the variable that will calculate values of y using both the y=x**2 formula and y'=2x using the Euler method\n",
    "# Input is a step size for the Euler method; 10000 values of x will be evaluated\n",
    "# Function returns the absolute difference between the last value of both sets of calculations\n",
    "\n",
    "def errorEuler(step_size):\n",
    "    # Range function only accepts integer values, to create list of values to evaluate will need to divide \n",
    "    # the list of 1000000 integers by (1/step_size)\n",
    "    values0 = list(range(0,1000001))\n",
    "    # Initialize variable that will keep results of x**2\n",
    "    values_squared = []\n",
    "    for index, value in enumerate(values0):\n",
    "        values0[index] = value / (1/step_size)\n",
    "        values_squared.append(values0[index]**2)\n",
    "    # Calculate values of x**2 using Euler method and y'=2x\n",
    "    # Start with initializing the variable that will contain those results\n",
    "    values_euler = [(2*values0[0]*step_size)]\n",
    "    for index, value in enumerate(values0[1:]):\n",
    "        values_euler.append(values_euler[index-1]+(2*values0[index]*step_size))\n",
    "    return abs(values_squared[-1] - values_euler[-1])\n"
   ]
  },
  {
   "cell_type": "code",
   "execution_count": 18,
   "metadata": {
    "collapsed": false
   },
   "outputs": [
    {
     "name": "stdout",
     "output_type": "stream",
     "text": [
      "1.0000000000000003e-09\n",
      "1.0000000000000003e-09\n",
      "1.0000000000000003e-09\n",
      "1.0000000000000003e-09\n",
      "1 loop, best of 3: 9.27 s per loop\n"
     ]
    }
   ],
   "source": [
    "%%timeit\n",
    "# Run the errorEuler function with different step sizes to find the one that returns a final difference lower \n",
    "# than 1e-5\n",
    "# Initialize the difference value\n",
    "difference0 = 1\n",
    "# Initialize step size\n",
    "step_size = 1\n",
    "# Use a while loop to decrease step_size until we are below the desired difference\n",
    "while difference0 > 1e-5:\n",
    "    difference0 = errorEuler(step_size)\n",
    "    step_size /= 10\n",
    "print(step_size*10)"
   ]
  },
  {
   "cell_type": "markdown",
   "metadata": {},
   "source": [
    "  "
   ]
  },
  {
   "cell_type": "markdown",
   "metadata": {
    "collapsed": true
   },
   "source": [
    "*Cython version*"
   ]
  },
  {
   "cell_type": "code",
   "execution_count": 19,
   "metadata": {
    "collapsed": true
   },
   "outputs": [],
   "source": [
    "%load_ext Cython"
   ]
  },
  {
   "cell_type": "code",
   "execution_count": 20,
   "metadata": {
    "collapsed": false
   },
   "outputs": [],
   "source": [
    "%%cython\n",
    "\n",
    "# Make Cython version of errorEuler\n",
    "def errorEuler_cython(float step_size):\n",
    "    # Range function only accepts integer values, to create list of values to evaluate will need to divide \n",
    "    # the list of 1000000 integers by (1/step_size)\n",
    "    cdef list values0 = list(range(0,1000001))\n",
    "    # Initialize variable that will keep results of x**2\n",
    "    cdef list values_squared = []\n",
    "    for index, value in enumerate(values0):\n",
    "        values0[index] = value / (1/step_size)\n",
    "        values_squared.append(values0[index]**2)\n",
    "    # Calculate values of x**2 using Euler method and y'=2x\n",
    "    # Start with initializing the variable that will contain those results\n",
    "    cdef list values_euler = [(2*values0[0]*step_size)]\n",
    "    for index, value in enumerate(values0[1:]):\n",
    "        values_euler.append(values_euler[index-1]+(2*values0[index]*step_size))\n",
    "    return abs(values_squared[-1] - values_euler[-1])"
   ]
  },
  {
   "cell_type": "code",
   "execution_count": 21,
   "metadata": {
    "collapsed": false,
    "scrolled": true
   },
   "outputs": [
    {
     "name": "stdout",
     "output_type": "stream",
     "text": [
      "1.0000000000000003e-09\n",
      "1.0000000000000003e-09\n",
      "1.0000000000000003e-09\n",
      "1.0000000000000003e-09\n",
      "1 loop, best of 3: 5.7 s per loop\n"
     ]
    }
   ],
   "source": [
    "%%timeit\n",
    "# Run the errorEuler function with different step sizes to find the one that returns a final difference lower \n",
    "# than 1e-5\n",
    "# Initialize the difference value\n",
    "difference0 = 1\n",
    "# Initialize step size\n",
    "step_size = 1\n",
    "# Use a while loop to decrease step_size until we are below the desired difference\n",
    "while difference0 > 1e-5:\n",
    "    difference0 = errorEuler_cython(step_size)\n",
    "    step_size /= 10\n",
    "print(step_size*10)"
   ]
  },
  {
   "cell_type": "markdown",
   "metadata": {},
   "source": [
    "Maybe the first time was slow while doing the initial compilation?"
   ]
  },
  {
   "cell_type": "code",
   "execution_count": 22,
   "metadata": {
    "collapsed": false
   },
   "outputs": [
    {
     "name": "stdout",
     "output_type": "stream",
     "text": [
      "1.0000000000000003e-09\n",
      "1.0000000000000003e-09\n",
      "1.0000000000000003e-09\n",
      "1.0000000000000003e-09\n",
      "1 loop, best of 3: 5.68 s per loop\n"
     ]
    }
   ],
   "source": [
    "%%timeit\n",
    "# Run the errorEuler function with different step sizes to find the one that returns a final difference lower \n",
    "# than 1e-5\n",
    "# Initialize the difference value\n",
    "difference0 = 1\n",
    "# Initialize step size\n",
    "step_size = 1\n",
    "# Use a while loop to decrease step_size until we are below the desired difference\n",
    "while difference0 > 1e-5:\n",
    "    difference0 = errorEuler_cython(step_size)\n",
    "    step_size /= 10\n",
    "print(step_size*10)"
   ]
  },
  {
   "cell_type": "markdown",
   "metadata": {},
   "source": [
    "  "
   ]
  },
  {
   "cell_type": "markdown",
   "metadata": {},
   "source": [
    "*Numpy version*"
   ]
  },
  {
   "cell_type": "code",
   "execution_count": 23,
   "metadata": {
    "collapsed": true
   },
   "outputs": [],
   "source": [
    "import numpy as np"
   ]
  },
  {
   "cell_type": "code",
   "execution_count": 24,
   "metadata": {
    "collapsed": true
   },
   "outputs": [],
   "source": [
    "def errorEuler_numpy(step_size):\n",
    "    # Range function only accepts integer values, to create list of values to evaluate will need to divide \n",
    "    # the list of 1000000 integers by (1/step_size)\n",
    "    values0 = np.arange(0,1000001) / (1/step_size)\n",
    "    # Initialize variable that will keep results of x**2\n",
    "    values_squared = values0**2\n",
    "    # Calculate values of x**2 using Euler method and y'=2x\n",
    "    # Start with initializing the variable that will contain those results\n",
    "    values_euler = [(2*values0[0]*step_size)]\n",
    "    for index, value in enumerate(values0[1:]):\n",
    "        values_euler.append(values_euler[index-1]+(2*values0[index]*step_size))\n",
    "    return abs(values_squared[-1] - values_euler[-1])"
   ]
  },
  {
   "cell_type": "code",
   "execution_count": 25,
   "metadata": {
    "collapsed": false,
    "scrolled": true
   },
   "outputs": [
    {
     "name": "stdout",
     "output_type": "stream",
     "text": [
      "1.0000000000000003e-09\n",
      "1.0000000000000003e-09\n",
      "1.0000000000000003e-09\n",
      "1.0000000000000003e-09\n",
      "1 loop, best of 3: 8.44 s per loop\n"
     ]
    }
   ],
   "source": [
    "%%timeit\n",
    "# Run the errorEuler function with different step sizes to find the one that returns a final difference lower \n",
    "# than 1e-5\n",
    "# Initialize the difference value\n",
    "difference0 = 1\n",
    "# Initialize step size\n",
    "step_size = 1\n",
    "# Use a while loop to decrease step_size until we are below the desired difference\n",
    "while difference0 > 1e-5:\n",
    "    difference0 = errorEuler_numpy(step_size)\n",
    "    step_size /= 10\n",
    "print(step_size*10)"
   ]
  },
  {
   "cell_type": "markdown",
   "metadata": {},
   "source": [
    "  "
   ]
  },
  {
   "cell_type": "markdown",
   "metadata": {},
   "source": [
    "*Scipy version*"
   ]
  },
  {
   "cell_type": "code",
   "execution_count": 26,
   "metadata": {
    "collapsed": true
   },
   "outputs": [],
   "source": [
    "from scipy.integrate import ode"
   ]
  },
  {
   "cell_type": "code",
   "execution_count": 27,
   "metadata": {
    "collapsed": false
   },
   "outputs": [
    {
     "data": {
      "text/plain": [
       "(0, array([ 0.]))"
      ]
     },
     "execution_count": 27,
     "metadata": {},
     "output_type": "execute_result"
    }
   ],
   "source": [
    "# define a function with the differential equation\n",
    "# y=x**2  y'=2x  x(0)=0  y(0)=0\n",
    "def EulerSquare(t, y): # Use t instead of x\n",
    "    return 2*t\n",
    "\n",
    "# initial conditions\n",
    "y0 = 0\n",
    "x0 = 0\n",
    "\n",
    "# Create ODE object\n",
    "solver = ode(EulerSquare)\n",
    "solver.set_initial_value(y0, x0)\n",
    "solver.t, solver.y"
   ]
  },
  {
   "cell_type": "markdown",
   "metadata": {},
   "source": [
    "To solve the differential equation for a given value we simply use the integrate method with the value as input"
   ]
  },
  {
   "cell_type": "code",
   "execution_count": 28,
   "metadata": {
    "collapsed": false
   },
   "outputs": [
    {
     "data": {
      "text/plain": [
       "(20.0, array([ 400.]))"
      ]
     },
     "execution_count": 28,
     "metadata": {},
     "output_type": "execute_result"
    }
   ],
   "source": [
    "solver.integrate(20)\n",
    "solver.t, solver.y"
   ]
  },
  {
   "cell_type": "markdown",
   "metadata": {},
   "source": [
    "Notice how solver.y is an np.ndarray  \n",
    "solver.integrate() does not accept a list or np.array as input. For these reason we need a for loop to plug-in each  \n",
    "of the 1000000 values we want to evaluate"
   ]
  },
  {
   "cell_type": "code",
   "execution_count": 29,
   "metadata": {
    "collapsed": true
   },
   "outputs": [],
   "source": [
    "# reset the solver to the intial conditions\n",
    "solver.set_initial_value(y0, x0)\n",
    "\n",
    "# Define the errorEuler function for scipy\n",
    "def errorEuler_scipy(step_size):\n",
    "    # Range function only accepts integer values, to create list of values to evaluate will need to divide \n",
    "    # the list of 1000000 integers by (1/step_size)\n",
    "    values0 = np.arange(0,1000001) / (1/step_size)\n",
    "    # Initialize variable that will keep results of x**2\n",
    "    values_squared = values0**2\n",
    "    # Calculate values of x**2 using Euler solver\n",
    "    # Start with initializing the variable that will contain those results\n",
    "    values_euler = solver.y\n",
    "    for value in values0[1:]:\n",
    "        solver.integrate(value)\n",
    "        #values_euler = np.vstack((values_euler, solver.y))\n",
    "    values_euler = solver.y\n",
    "    return abs(values_squared[-1] - values_euler[-1])"
   ]
  },
  {
   "cell_type": "code",
   "execution_count": 30,
   "metadata": {
    "collapsed": false
   },
   "outputs": [
    {
     "name": "stdout",
     "output_type": "stream",
     "text": [
      "0.00048828125\n"
     ]
    },
    {
     "name": "stderr",
     "output_type": "stream",
     "text": [
      "/Applications/anaconda/lib/python3.5/site-packages/scipy/integrate/_ode.py:869: UserWarning: vode: Illegal input detected. (See printed message.)\n",
      "  'Unexpected istate=%s' % istate))\n"
     ]
    },
    {
     "name": "stdout",
     "output_type": "stream",
     "text": [
      "0.00048828125\n",
      "0.00048828125\n",
      "0.00048828125\n",
      "1 loop, best of 3: 16.3 s per loop\n"
     ]
    }
   ],
   "source": [
    "%%timeit\n",
    "solver = ode(EulerSquare)\n",
    "solver.set_initial_value(y0, x0)\n",
    "print(errorEuler_scipy(1))"
   ]
  },
  {
   "cell_type": "code",
   "execution_count": 31,
   "metadata": {
    "collapsed": false,
    "scrolled": true
   },
   "outputs": [
    {
     "name": "stdout",
     "output_type": "stream",
     "text": [
      "0.0\n",
      "0.0\n",
      "0.0\n",
      "0.0\n",
      "1 loop, best of 3: 15.3 s per loop\n"
     ]
    }
   ],
   "source": [
    "%%timeit\n",
    "solver.set_initial_value(y0, x0)\n",
    "solver.set_integrator('dopri5') # Runge-Kutta method of order 4(5)\n",
    "print(errorEuler_scipy(1))"
   ]
  },
  {
   "cell_type": "markdown",
   "metadata": {},
   "source": [
    "  "
   ]
  },
  {
   "cell_type": "markdown",
   "metadata": {
    "collapsed": false
   },
   "source": [
    "*Numba version*"
   ]
  },
  {
   "cell_type": "code",
   "execution_count": 32,
   "metadata": {
    "collapsed": false
   },
   "outputs": [],
   "source": [
    "from numba import jit"
   ]
  },
  {
   "cell_type": "code",
   "execution_count": 33,
   "metadata": {
    "collapsed": true
   },
   "outputs": [],
   "source": [
    "# Make Numba version of errorEuler\n",
    "errorEuler_numba=jit(errorEuler)"
   ]
  },
  {
   "cell_type": "code",
   "execution_count": 34,
   "metadata": {
    "collapsed": false,
    "scrolled": true
   },
   "outputs": [
    {
     "name": "stdout",
     "output_type": "stream",
     "text": [
      "1.0000000000000002e-07\n",
      "1.0000000000000002e-07\n",
      "1.0000000000000002e-07\n",
      "1.0000000000000002e-07\n",
      "1 loop, best of 3: 485 ms per loop\n"
     ]
    }
   ],
   "source": [
    "%%timeit\n",
    "# Run the errorEuler function with different step sizes to find the one that returns a final difference lower \n",
    "# than 1e-5\n",
    "# Initialize the difference value\n",
    "difference0 = 1\n",
    "# Initialize step size\n",
    "step_size = 1\n",
    "# Use a while loop to decrease step_size until we are below the desired difference\n",
    "while difference0 > 1e-5:\n",
    "    difference0 = errorEuler_numba(step_size)\n",
    "    step_size /= 10\n",
    "print(step_size*10)"
   ]
  },
  {
   "cell_type": "markdown",
   "metadata": {},
   "source": [
    "Note: Numba sometimes have problems compiling empty lists"
   ]
  },
  {
   "cell_type": "code",
   "execution_count": 35,
   "metadata": {
    "collapsed": false
   },
   "outputs": [],
   "source": [
    "# Make Numba version of errorEuler_numpy\n",
    "errorEuler_numpy_numba=jit(errorEuler_numpy)"
   ]
  },
  {
   "cell_type": "code",
   "execution_count": 36,
   "metadata": {
    "collapsed": false,
    "scrolled": true
   },
   "outputs": [
    {
     "name": "stdout",
     "output_type": "stream",
     "text": [
      "1.0000000000000003e-09\n",
      "1.0000000000000003e-09\n",
      "1.0000000000000003e-09\n",
      "1.0000000000000003e-09\n",
      "1 loop, best of 3: 550 ms per loop\n"
     ]
    }
   ],
   "source": [
    "%%timeit\n",
    "# Run the errorEuler function with different step sizes to find the one that returns a final difference lower \n",
    "# than 1e-5\n",
    "# Initialize the difference value\n",
    "difference0 = 1\n",
    "# Initialize step size\n",
    "step_size = 1\n",
    "# Use a while loop to decrease step_size until we are below the desired difference\n",
    "while difference0 > 1e-5:\n",
    "    difference0 = errorEuler_numpy_numba(step_size)\n",
    "    step_size /= 10\n",
    "print(step_size*10)"
   ]
  },
  {
   "cell_type": "markdown",
   "metadata": {},
   "source": [
    "  "
   ]
  },
  {
   "cell_type": "markdown",
   "metadata": {},
   "source": [
    "*Parallel processing version*  \n",
    "\n",
    "Note: Need to start engines in the terminal:  \n",
    "$ ipcluster start"
   ]
  },
  {
   "cell_type": "code",
   "execution_count": 37,
   "metadata": {
    "collapsed": true
   },
   "outputs": [],
   "source": [
    "from ipyparallel import Client"
   ]
  },
  {
   "cell_type": "code",
   "execution_count": 38,
   "metadata": {
    "collapsed": false,
    "scrolled": true
   },
   "outputs": [
    {
     "data": {
      "text/plain": [
       "[0, 1, 2, 3]"
      ]
     },
     "execution_count": 38,
     "metadata": {},
     "output_type": "execute_result"
    }
   ],
   "source": [
    "rc=Client() # Create ipyparallel.Client instance\n",
    "v=rc[:]     # Create a view of the instance that includes all cores\n",
    "rc.ids      # Returns identities of all the cores the instance has access to"
   ]
  },
  {
   "cell_type": "code",
   "execution_count": 39,
   "metadata": {
    "collapsed": true
   },
   "outputs": [],
   "source": [
    "def errorEuler_parallel(step_size):\n",
    "    # Range function only accepts integer values, to create list of values to evaluate will need to divide \n",
    "    # the list of 1000000 integers by (1/step_size)\n",
    "    values0 = list(range(0,1000001))\n",
    "    # Initialize variable that will keep results of x**2\n",
    "    values_squared = []\n",
    "    for index, value in enumerate(values0):\n",
    "        values0[index] = value / (1/step_size)\n",
    "        values_squared.append(values0[index]**2)\n",
    "    # Calculate values of x**2 using Euler method and y'=2x\n",
    "    # Start with initializing the variable that will contain those results\n",
    "    values_euler = [(2*values0[0]*step_size)]\n",
    "    for index, value in enumerate(values0[1:]):\n",
    "        values_euler.append(values_euler[index-1]+(2*values0[index]*step_size))\n",
    "    return abs(values_squared[-1] - values_euler[-1])"
   ]
  },
  {
   "cell_type": "markdown",
   "metadata": {},
   "source": [
    "Asynchronous execution"
   ]
  },
  {
   "cell_type": "code",
   "execution_count": 40,
   "metadata": {
    "collapsed": false,
    "scrolled": true
   },
   "outputs": [
    {
     "name": "stdout",
     "output_type": "stream",
     "text": [
      "[1e-08, 1e-09, 9.999999999999999e-11, 1e-12]\n",
      "[1e-08, 1e-09, 9.999999999999999e-11, 1e-12]\n",
      "[1e-08, 1e-09, 9.999999999999999e-11, 1e-12]\n",
      "[1e-08, 1e-09, 9.999999999999999e-11, 1e-12]\n",
      "1 loop, best of 3: 5.82 s per loop\n"
     ]
    }
   ],
   "source": [
    "%%timeit\n",
    "# Run the errorEuler function with different step sizes to find the one that returns a final difference lower \n",
    "# than 1e-5\n",
    "# Initialize the difference value\n",
    "difference0 = 1\n",
    "# Initialize step size, has to a list of 4 values so that errorEuler function is run with a different one in each\n",
    "# of the 4 cores available\n",
    "# Because of overhead in changing values of a list (since we are not using Numpy) the final print*10 is not feasible\n",
    "# Better to initialize step_sizes with bigger values and first step in the while loop is to divide by 10000\n",
    "step_size = [10000, 1000, 100, 1]  \n",
    "# Use a while loop to decrease step_size until we are below the desired difference\n",
    "while difference0 > 1e-5:\n",
    "    for index, value in enumerate(step_size):\n",
    "        step_size[index] = value/10000\n",
    "    asynch_job=v.map(errorEuler_parallel, step_size) # Run function in each core with a different value from step_size\n",
    "    asynch_results = asynch_job.get()                # Collect results from each core\n",
    "    difference0 = min(asynch_results)\n",
    "print(step_size)"
   ]
  },
  {
   "cell_type": "markdown",
   "metadata": {},
   "source": [
    "Optimize the while loop with Numpy"
   ]
  },
  {
   "cell_type": "code",
   "execution_count": 41,
   "metadata": {
    "collapsed": false
   },
   "outputs": [
    {
     "name": "stdout",
     "output_type": "stream",
     "text": [
      "[  1.00000000e-08   1.00000000e-09   1.00000000e-11   1.00000000e-12]\n",
      "[  1.00000000e-08   1.00000000e-09   1.00000000e-11   1.00000000e-12]\n",
      "[  1.00000000e-08   1.00000000e-09   1.00000000e-11   1.00000000e-12]\n",
      "[  1.00000000e-08   1.00000000e-09   1.00000000e-11   1.00000000e-12]\n",
      "1 loop, best of 3: 10.1 s per loop\n"
     ]
    }
   ],
   "source": [
    "%%timeit\n",
    "# Run the errorEuler function with different step sizes to find the one that returns a final difference lower \n",
    "# than 1e-5\n",
    "# Initialize the difference value\n",
    "difference0 = 1\n",
    "# Initialize step size, has to a list of 4 values so that errorEuler function is run with a different one in each\n",
    "# of the 4 cores available\n",
    "step_size = np.array([1, 0.1, 0.001, 0.0001])\n",
    "# Use a while loop to decrease step_size until we are below the desired difference\n",
    "while difference0 > 1e-5:\n",
    "    asynch_job=v.map(errorEuler_parallel, step_size) # Run function in each core with a different value from step_size\n",
    "    asynch_results = asynch_job.get()                # Collect results from each core\n",
    "    difference0 = min(asynch_results)\n",
    "    step_size /= 10000\n",
    "print(step_size*10000)"
   ]
  },
  {
   "cell_type": "markdown",
   "metadata": {},
   "source": [
    "Use Numpy also in the function"
   ]
  },
  {
   "cell_type": "code",
   "execution_count": 42,
   "metadata": {
    "collapsed": true
   },
   "outputs": [],
   "source": [
    "%px import numpy as np\n",
    "%px import scipy.stats"
   ]
  },
  {
   "cell_type": "code",
   "execution_count": 43,
   "metadata": {
    "collapsed": true
   },
   "outputs": [],
   "source": [
    "def errorEuler_parallel_numpy(step_size):\n",
    "    # Range function only accepts integer values, to create list of values to evaluate will need to divide \n",
    "    # the list of 1000000 integers by (1/step_size)\n",
    "    values0 = np.arange(0,1000001) / (1/step_size)\n",
    "    # Initialize variable that will keep results of x**2\n",
    "    values_squared = values0**2\n",
    "    # Calculate values of x**2 using Euler method and y'=2x\n",
    "    # Start with initializing the variable that will contain those results\n",
    "    values_euler = [(2*values0[0]*step_size)]\n",
    "    for index, value in enumerate(values0[1:]):\n",
    "        values_euler.append(values_euler[index-1]+(2*values0[index]*step_size))\n",
    "    return abs(values_squared[-1] - values_euler[-1])"
   ]
  },
  {
   "cell_type": "code",
   "execution_count": 44,
   "metadata": {
    "collapsed": false
   },
   "outputs": [
    {
     "name": "stdout",
     "output_type": "stream",
     "text": [
      "[  1.00000000e-08   1.00000000e-09   1.00000000e-11   1.00000000e-12]\n",
      "[  1.00000000e-08   1.00000000e-09   1.00000000e-11   1.00000000e-12]\n",
      "[  1.00000000e-08   1.00000000e-09   1.00000000e-11   1.00000000e-12]\n",
      "[  1.00000000e-08   1.00000000e-09   1.00000000e-11   1.00000000e-12]\n",
      "1 loop, best of 3: 4.96 s per loop\n"
     ]
    }
   ],
   "source": [
    "%%timeit\n",
    "# Run the errorEuler function with different step sizes to find the one that returns a final difference lower \n",
    "# than 1e-5\n",
    "# Initialize the difference value\n",
    "difference0 = 1\n",
    "# Initialize step size, has to a list of 4 values so that errorEuler function is run with a different one in each\n",
    "# of the 4 cores available\n",
    "step_size = np.array([1, 0.1, 0.001, 0.0001])\n",
    "# Use a while loop to decrease step_size until we are below the desired difference\n",
    "while difference0 > 1e-5:\n",
    "    asynch_job=v.map(errorEuler_parallel_numpy, step_size) # Run function in each core w/ different val from step_size\n",
    "    asynch_results = asynch_job.get()                      # Collect results from each core\n",
    "    difference0 = min(asynch_results)\n",
    "    step_size /= 10000\n",
    "print(step_size*10000)"
   ]
  },
  {
   "cell_type": "markdown",
   "metadata": {},
   "source": [
    "Synchronous execution"
   ]
  },
  {
   "cell_type": "code",
   "execution_count": 45,
   "metadata": {
    "collapsed": false,
    "scrolled": true
   },
   "outputs": [
    {
     "name": "stdout",
     "output_type": "stream",
     "text": [
      "[  1.00000000e-08   1.00000000e-09   1.00000000e-11   1.00000000e-12]\n",
      "[  1.00000000e-08   1.00000000e-09   1.00000000e-11   1.00000000e-12]\n",
      "[  1.00000000e-08   1.00000000e-09   1.00000000e-11   1.00000000e-12]\n",
      "[  1.00000000e-08   1.00000000e-09   1.00000000e-11   1.00000000e-12]\n",
      "1 loop, best of 3: 4.98 s per loop\n"
     ]
    }
   ],
   "source": [
    "%%timeit\n",
    "# Run the errorEuler function with different step sizes to find the one that returns a final difference lower \n",
    "# than 1e-5\n",
    "# Initialize the difference value\n",
    "difference0 = 1\n",
    "# Initialize step size, has to a list of 4 values so that errorEuler function is run with a different one in each\n",
    "# of the 4 cores available\n",
    "step_size = np.array([1, 0.1, 0.001, 0.0001])\n",
    "# Use a while loop to decrease step_size until we are below the desired difference\n",
    "while difference0 > 1e-5:\n",
    "    synch_results=v.map_sync(errorEuler_parallel_numpy, step_size) # Results don't need to be collected separately\n",
    "    difference0 = min(synch_results)\n",
    "    step_size /= 10000\n",
    "print(step_size*10000)"
   ]
  },
  {
   "cell_type": "code",
   "execution_count": 47,
   "metadata": {
    "collapsed": false
   },
   "outputs": [],
   "source": [
    "# Make Numba version of errorEuler_parallel_numpy\n",
    "errorEuler_parallel_numpy_numba=jit(errorEuler_parallel_numpy)"
   ]
  },
  {
   "cell_type": "code",
   "execution_count": 48,
   "metadata": {
    "collapsed": false
   },
   "outputs": [
    {
     "name": "stdout",
     "output_type": "stream",
     "text": [
      "[  1.00000000e-08   1.00000000e-09   1.00000000e-11   1.00000000e-12]\n",
      "[  1.00000000e-08   1.00000000e-09   1.00000000e-11   1.00000000e-12]\n",
      "[  1.00000000e-08   1.00000000e-09   1.00000000e-11   1.00000000e-12]\n",
      "[  1.00000000e-08   1.00000000e-09   1.00000000e-11   1.00000000e-12]\n",
      "1 loop, best of 3: 1.29 s per loop\n"
     ]
    }
   ],
   "source": [
    "%%timeit\n",
    "# Run the errorEuler function with different step sizes to find the one that returns a final difference lower \n",
    "# than 1e-5\n",
    "# Initialize the difference value\n",
    "difference0 = 1\n",
    "# Initialize step size, has to a list of 4 values so that errorEuler function is run with a different one in each\n",
    "# of the 4 cores available\n",
    "step_size = np.array([1, 0.1, 0.001, 0.0001])\n",
    "# Use a while loop to decrease step_size until we are below the desired difference\n",
    "while difference0 > 1e-5:\n",
    "    asynch_job=v.map(errorEuler_parallel_numpy_numba, step_size) # Run function in each core w/ different val from step_size\n",
    "    asynch_results = asynch_job.get()                      # Collect results from each core\n",
    "    difference0 = min(asynch_results)\n",
    "    step_size /= 10000\n",
    "print(step_size*10000)"
   ]
  }
 ],
 "metadata": {
  "kernelspec": {
   "display_name": "Python 3",
   "language": "python",
   "name": "python3"
  },
  "language_info": {
   "codemirror_mode": {
    "name": "ipython",
    "version": 3
   },
   "file_extension": ".py",
   "mimetype": "text/x-python",
   "name": "python",
   "nbconvert_exporter": "python",
   "pygments_lexer": "ipython3",
   "version": "3.5.1"
  }
 },
 "nbformat": 4,
 "nbformat_minor": 0
}
